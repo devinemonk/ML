{
  "nbformat": 4,
  "nbformat_minor": 0,
  "metadata": {
    "colab": {
      "name": "Untitled4.ipynb",
      "provenance": [],
      "authorship_tag": "ABX9TyPlcwviQfu2kJDkHFSLq2QJ",
      "include_colab_link": true
    },
    "kernelspec": {
      "name": "python3",
      "display_name": "Python 3"
    }
  },
  "cells": [
    {
      "cell_type": "markdown",
      "metadata": {
        "id": "view-in-github",
        "colab_type": "text"
      },
      "source": [
        "<a href=\"https://colab.research.google.com/github/devinemonk/ML/blob/main/Decision%20Tree.ipynb\" target=\"_parent\"><img src=\"https://colab.research.google.com/assets/colab-badge.svg\" alt=\"Open In Colab\"/></a>"
      ]
    },
    {
      "cell_type": "code",
      "metadata": {
        "id": "MvIkYquQewn1"
      },
      "source": [
        "import numpy as np\n",
        "import pandas as pd\n",
        "from sklearn.tree import DecisionTreeClassifier\n",
        "from sklearn.model_selection import train_test_split\n",
        "from sklearn.metrics import confusion_matrix\n",
        "from sklearn.metrics import accuracy_score\n",
        "from sklearn.model_selection import cross_validate\n",
        "from sklearn import datasets\n"
      ],
      "execution_count": 29,
      "outputs": []
    },
    {
      "cell_type": "code",
      "metadata": {
        "id": "qNDOJw4vgWqa"
      },
      "source": [
        "iris_data=datasets.load_iris()"
      ],
      "execution_count": 30,
      "outputs": []
    },
    {
      "cell_type": "code",
      "metadata": {
        "id": "4QDvDjHWge85"
      },
      "source": [
        "features=iris_data.data\n",
        "target=iris_data.target"
      ],
      "execution_count": 31,
      "outputs": []
    },
    {
      "cell_type": "code",
      "metadata": {
        "id": "Et4Hvytwh2Fm",
        "outputId": "2f71706b-1922-4a58-f005-fcdf18a11efa",
        "colab": {
          "base_uri": "https://localhost:8080/"
        }
      },
      "source": [
        "feature_train,feature_test,target_train,target_test=train_test_split(features,target,test_size=0.2)\n",
        "model=DecisionTreeClassifier(criterion='entropy')\n",
        "predicted=cross_validate(model,features,target,cv=10)\n",
        "print(np.mean(predicted['test_score']))\n"
      ],
      "execution_count": 33,
      "outputs": [
        {
          "output_type": "stream",
          "text": [
            "0.96\n"
          ],
          "name": "stdout"
        }
      ]
    },
    {
      "cell_type": "code",
      "metadata": {
        "id": "ETkq9Nv_Hmf8",
        "outputId": "5101a1c6-b95d-4c33-a74d-4d476e108639",
        "colab": {
          "base_uri": "https://localhost:8080/"
        }
      },
      "source": [
        "model=DecisionTreeClassifier()\n",
        "predicted=cross_validate(model,features,target,cv=10)\n",
        "print(np.mean(predicted['test_score']))"
      ],
      "execution_count": 34,
      "outputs": [
        {
          "output_type": "stream",
          "text": [
            "0.9533333333333334\n"
          ],
          "name": "stdout"
        }
      ]
    },
    {
      "cell_type": "code",
      "metadata": {
        "id": "hQQVAi66IFHU"
      },
      "source": [
        "from sklearn.model_selection import GridSearchCV"
      ],
      "execution_count": 35,
      "outputs": []
    },
    {
      "cell_type": "code",
      "metadata": {
        "id": "UQskRD4_IOIv",
        "outputId": "a70259c9-28a5-467b-cfd9-45b6ae427f3d",
        "colab": {
          "base_uri": "https://localhost:8080/"
        }
      },
      "source": [
        "param_grid={'max_depth':np.arange(1,10)}\n",
        "tree=GridSearchCV(DecisionTreeClassifier(),param_grid)\n",
        "tree.fit(feature_train,target_train)\n",
        "print(\"Best parameter with grid search\",tree.best_params_)\n",
        "grid_predictions=tree.predict(feature_test)\n",
        "print(confusion_matrix(target_test,grid_predictions))\n",
        "print(accuracy_score(target_test,grid_predictions))"
      ],
      "execution_count": 40,
      "outputs": [
        {
          "output_type": "stream",
          "text": [
            "Best parameter with grid search {'max_depth': 3}\n",
            "[[ 9  0  0]\n",
            " [ 0 11  2]\n",
            " [ 0  0  8]]\n",
            "0.9333333333333333\n"
          ],
          "name": "stdout"
        }
      ]
    }
  ]
}