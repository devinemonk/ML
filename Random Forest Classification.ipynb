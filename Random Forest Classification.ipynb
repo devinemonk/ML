{
  "nbformat": 4,
  "nbformat_minor": 0,
  "metadata": {
    "colab": {
      "name": "Untitled4.ipynb",
      "provenance": [],
      "authorship_tag": "ABX9TyP7GJRLlr1hsXJtvlGVC4ho",
      "include_colab_link": true
    },
    "kernelspec": {
      "name": "python3",
      "display_name": "Python 3"
    }
  },
  "cells": [
    {
      "cell_type": "markdown",
      "metadata": {
        "id": "view-in-github",
        "colab_type": "text"
      },
      "source": [
        "<a href=\"https://colab.research.google.com/github/devinemonk/ML/blob/main/Random%20Forest%20Classification.ipynb\" target=\"_parent\"><img src=\"https://colab.research.google.com/assets/colab-badge.svg\" alt=\"Open In Colab\"/></a>"
      ]
    },
    {
      "cell_type": "code",
      "metadata": {
        "id": "MvIkYquQewn1"
      },
      "source": [
        "import numpy as np\n",
        "from sklearn.ensemble import RandomForestClassifier\n",
        "from sklearn.model_selection import train_test_split\n",
        "from sklearn.metrics import confusion_matrix\n",
        "from sklearn.metrics import accuracy_score\n",
        "from sklearn.model_selection import cross_validate\n",
        "from sklearn import datasets\n"
      ],
      "execution_count": 41,
      "outputs": []
    },
    {
      "cell_type": "code",
      "metadata": {
        "id": "qNDOJw4vgWqa"
      },
      "source": [
        "iris_data=datasets.load_iris()"
      ],
      "execution_count": 42,
      "outputs": []
    },
    {
      "cell_type": "code",
      "metadata": {
        "id": "4QDvDjHWge85"
      },
      "source": [
        "features=iris_data.data\n",
        "target=iris_data.target"
      ],
      "execution_count": 43,
      "outputs": []
    },
    {
      "cell_type": "code",
      "metadata": {
        "id": "Et4Hvytwh2Fm",
        "outputId": "55bc5cfb-cc15-409a-afd8-b649fc17ef60",
        "colab": {
          "base_uri": "https://localhost:8080/"
        }
      },
      "source": [
        "feature_train,feature_test,target_train,target_test=train_test_split(features,target,test_size=0.2)\n",
        "model=RandomForestClassifier(n_estimators=1000,max_features='sqrt')\n",
        "fitted_model=model.fit(feature_train,target_train)\n",
        "prediction=fitted_model.predict(feature_test)\n",
        "print(confusion_matrix(target_test,prediction))\n",
        "print(accuracy_score(target_test,prediction))\n"
      ],
      "execution_count": 47,
      "outputs": [
        {
          "output_type": "stream",
          "text": [
            "[[10  0  0]\n",
            " [ 0 12  0]\n",
            " [ 0  0  8]]\n",
            "1.0\n"
          ],
          "name": "stdout"
        }
      ]
    },
    {
      "cell_type": "code",
      "metadata": {
        "id": "ETkq9Nv_Hmf8",
        "outputId": "30137f8c-dd47-4c1f-84c5-d9464934e096",
        "colab": {
          "base_uri": "https://localhost:8080/"
        }
      },
      "source": [
        "model=RandomForestClassifier()\n",
        "predicted=cross_validate(model,features,target,cv=10)\n",
        "print(np.mean(predicted['test_score']))"
      ],
      "execution_count": 48,
      "outputs": [
        {
          "output_type": "stream",
          "text": [
            "0.9666666666666666\n"
          ],
          "name": "stdout"
        }
      ]
    }
  ]
}