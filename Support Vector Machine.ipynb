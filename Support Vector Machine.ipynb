{
  "nbformat": 4,
  "nbformat_minor": 0,
  "metadata": {
    "colab": {
      "name": "Untitled4.ipynb",
      "provenance": [],
      "authorship_tag": "ABX9TyMqOixDDvX0NkqNdVW4gLA5",
      "include_colab_link": true
    },
    "kernelspec": {
      "name": "python3",
      "display_name": "Python 3"
    }
  },
  "cells": [
    {
      "cell_type": "markdown",
      "metadata": {
        "id": "view-in-github",
        "colab_type": "text"
      },
      "source": [
        "<a href=\"https://colab.research.google.com/github/devinemonk/ML/blob/main/Support%20Vector%20Machine.ipynb\" target=\"_parent\"><img src=\"https://colab.research.google.com/assets/colab-badge.svg\" alt=\"Open In Colab\"/></a>"
      ]
    },
    {
      "cell_type": "code",
      "metadata": {
        "id": "MvIkYquQewn1"
      },
      "source": [
        "import numpy as np\n",
        "import pandas as pd\n",
        "from sklearn import svm\n",
        "from sklearn.neighbors import KNeighborsClassifier\n",
        "from sklearn.model_selection import train_test_split\n",
        "from sklearn.metrics import confusion_matrix\n",
        "from sklearn.metrics import accuracy_score\n",
        "from sklearn import datasets\n"
      ],
      "execution_count": 24,
      "outputs": []
    },
    {
      "cell_type": "code",
      "metadata": {
        "id": "qNDOJw4vgWqa"
      },
      "source": [
        "iris_data=datasets.load_iris()"
      ],
      "execution_count": 21,
      "outputs": []
    },
    {
      "cell_type": "code",
      "metadata": {
        "id": "4QDvDjHWge85"
      },
      "source": [
        "features=iris_data.data\n",
        "target=iris_data.target"
      ],
      "execution_count": 26,
      "outputs": []
    },
    {
      "cell_type": "code",
      "metadata": {
        "id": "Et4Hvytwh2Fm",
        "outputId": "6647332c-ba13-4aac-9464-e7d4ab8647ff",
        "colab": {
          "base_uri": "https://localhost:8080/"
        }
      },
      "source": [
        "feature_train,feature_test,target_train,target_test=train_test_split(features,target,test_size=0.3)\n",
        "model=svm.SVC()\n",
        "fitted_model=model.fit(feature_train,target_train)\n",
        "predictions=fitted_model.predict(feature_test)\n",
        "\n",
        "print(confusion_matrix(target_test,predictions))\n",
        "print(accuracy_score(target_test,predictions))"
      ],
      "execution_count": 27,
      "outputs": [
        {
          "output_type": "stream",
          "text": [
            "[[17  0  0]\n",
            " [ 0 15  0]\n",
            " [ 0  1 12]]\n",
            "0.9777777777777777\n"
          ],
          "name": "stdout"
        }
      ]
    }
  ]
}