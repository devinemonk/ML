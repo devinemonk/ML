{
 "cells": [
  {
   "cell_type": "code",
   "execution_count": 41,
   "metadata": {},
   "outputs": [
    {
     "ename": "SyntaxError",
     "evalue": "invalid syntax (<ipython-input-41-1e99d797a7d5>, line 2)",
     "output_type": "error",
     "traceback": [
      "\u001b[1;36m  File \u001b[1;32m\"<ipython-input-41-1e99d797a7d5>\"\u001b[1;36m, line \u001b[1;32m2\u001b[0m\n\u001b[1;33m    pip install vader-Sentiment\u001b[0m\n\u001b[1;37m              ^\u001b[0m\n\u001b[1;31mSyntaxError\u001b[0m\u001b[1;31m:\u001b[0m invalid syntax\n"
     ]
    }
   ],
   "source": [
    "#pip install -U textblob\n",
    "#pip install vaderSentiment"
   ]
  },
  {
   "cell_type": "code",
   "execution_count": 64,
   "metadata": {},
   "outputs": [
    {
     "name": "stderr",
     "output_type": "stream",
     "text": [
      "[nltk_data] Downloading package punkt to\n",
      "[nltk_data]     C:\\Users\\Aratrik\\AppData\\Roaming\\nltk_data...\n",
      "[nltk_data]   Package punkt is already up-to-date!\n"
     ]
    },
    {
     "name": "stdout",
     "output_type": "stream",
     "text": [
      "The text is Positive\n"
     ]
    }
   ],
   "source": [
    "from tkinter import *\n",
    "from tkinter import filedialog\n",
    "from PIL import ImageTk,Image\n",
    "\n",
    "def c2():\n",
    "    \n",
    "    \n",
    "    q = filedialog.askopenfilename(initialdir=\"C:\\\\User\\\\\" , filetypes=((\"PDF file\",\"*.pdf\"),))\n",
    "    #q='E:/FINAL-RESUME.pdf'\n",
    "    import slate3k as slate\n",
    "\n",
    "    with open(q,'rb') as f:\n",
    "        extracted_text = slate.PDF(f)\n",
    "    #print(extracted_text)\n",
    "    from vaderSentiment.vaderSentiment import SentimentIntensityAnalyzer \n",
    "    sid_obj = SentimentIntensityAnalyzer()\n",
    "    s_d= sid_obj.polarity_scores(extracted_text) \n",
    "    #print(s_d)\n",
    "    pos='pos'\n",
    "    neg='neg'\n",
    "    neu='neu'\n",
    "    if (s_d[pos]>s_d[neg] and s_d[pos]>s_d[neu]):\n",
    "        print(\"POSITIVE\")\n",
    "    elif(s_d[neg]>s_d[pos] and s_d[neg]>s_d[neu]):\n",
    "        print(\"NEGATIVE\")\n",
    "    else:\n",
    "        print(\"NEUTRAL\")\n",
    "    MyButton2['state']='disable'\n",
    "    MyButton3['state']='disable'\n",
    "    MyButton4['state']='disabled'\n",
    "    MyButton5['state']='disabled'\n",
    "    #print(q)\n",
    "\n",
    "\n",
    "    \n",
    "    \n",
    "def c3():\n",
    "    \n",
    "    \n",
    "    path = filedialog.askopenfilename(initialdir=\"C:\\\\User\\\\\" , filetypes=((\"TXT file\",\"*.txt\"),))\n",
    "    with open(path, 'r') as f:\n",
    "        data = f.read()\n",
    "    #print(data)\n",
    "    from vaderSentiment.vaderSentiment import SentimentIntensityAnalyzer \n",
    "    sid_obj = SentimentIntensityAnalyzer()\n",
    "    s_d= sid_obj.polarity_scores(data) \n",
    "    #print(s_d)\n",
    "    pos='pos'\n",
    "    neg='neg'\n",
    "    neu='neu'\n",
    "    if (s_d[pos]>s_d[neg] and s_d[pos]>s_d[neu]):\n",
    "        print(\"POSITIVE\")\n",
    "    elif(s_d[neg]>s_d[pos] and s_d[neg]>s_d[neu]):\n",
    "        print(\"NEGATIVE\")\n",
    "    else:\n",
    "        print(\"NEUTRAL\")\n",
    "    MyButton2['state']='disable'\n",
    "    MyButton3['state']='disable'\n",
    "    MyButton4['state']='disabled'\n",
    "    MyButton5['state']='disabled'\n",
    "    #print(f)\n",
    "    \n",
    "   \n",
    "    \n",
    "def c5():\n",
    "    from tkinter import simpledialog\n",
    "    consumer_key=simpledialog.askstring(title=\"INPUT\",prompt=\"Enter the Consumer key\")\n",
    "    consumer_seceret__key=simpledialog.askstring(title=\"INPUT\",prompt=\"Enter the Consumer Seceret key\")\n",
    "    access_token_key=simpledialog.askstring(title=\"INPUT\",prompt=\"Enter the Access Token key\")\n",
    "    access_token_secret_key=simpledialog.askstring(title=\"INPUT\",prompt=\"Enter the Access Token Secret key\")\n",
    "    \n",
    "    print(consumer_key)\n",
    "    print(consumer_seceret__key)\n",
    "    print(access_token_key)\n",
    "    print(access_token_secret_key)\n",
    "    MyButton2['state']='disable'\n",
    "    MyButton3['state']='disable'\n",
    "    MyButton4['state']='disabled'\n",
    "    MyButton5['state']='disabled'\n",
    "    \n",
    "\n",
    "def c4():\n",
    "    from tkinter import simpledialog\n",
    "    \n",
    "    url=simpledialog.askstring(title=\"INPUT\",prompt=\"Enter the url\")    \n",
    "    from textblob  import TextBlob\n",
    "    import nltk\n",
    "    from newspaper import Article\n",
    "    #url='https://everythingcomputerscience.com'\n",
    "    article=Article(url)\n",
    "    article.download()\n",
    "    article.parse()\n",
    "    nltk.download('punkt')\n",
    "    article.nlp()\n",
    "    text=article.summary\n",
    "    #print(text)\n",
    "    obj=TextBlob(text)\n",
    "    sentiment=obj.sentiment.polarity\n",
    "    #print(sentiment)\n",
    "    if sentiment==0:\n",
    "        print(\"The Text is Neutral\")\n",
    "    elif sentiment>0:\n",
    "      print(\"The text is Positive\")\n",
    "    else:\n",
    "      print(\"The text is Negative\")\n",
    "    \n",
    "    MyButton2['state']='disable'\n",
    "    MyButton3['state']='disable'\n",
    "    MyButton4['state']='disabled'\n",
    "    MyButton5['state']='disabled'\n",
    "    \n",
    "    \n",
    "\n",
    "s1=s2=s3=s4='normal'\n",
    "\n",
    "root=Tk()\n",
    "\n",
    "root.title(\"Sentimental Analysis\")\n",
    "\n",
    "#root.geometry(\"640x340+0+0\")\n",
    "\n",
    "myLabel1=Label(root,text=\"Hello User!\")\n",
    "myLabel=Label(root,text=\" \")\n",
    "\n",
    "myLabel2=Label(root,text=\"To enter a text from pdf:\")\n",
    "myLabel3=Label(root,text=\"To enter a text from file:\")\n",
    "myLabel4=Label(root,text=\"To enter a text from Website:\")\n",
    "myLabel5=Label(root,text=\"To enter a text from Twitter:\")\n",
    "\n",
    "\n",
    "MyButton2=Button(root,text=\"click Here!\",command=c2, state = s1,padx=80,pady=2)\n",
    "MyButton3=Button(root,text=\"click Here!\",command=c3, state = s2,padx=80,pady=2)\n",
    "MyButton4=Button(root,text=\"click Here!\",command=c4, state = s3,padx=80,pady=2)\n",
    "MyButton5=Button(root,text=\"click Here!\",command=c5, state = s4,padx=80,pady=2)\n",
    "\n",
    "myLabel1.grid(row=1,column=3)\n",
    "myLabel.grid(row=0,column=1)\n",
    "\n",
    "\n",
    "myLabel2.grid(row=2,column=2)\n",
    "MyButton2.grid(row=2,column=5)\n",
    "myLabel3.grid(row=4,column=2)\n",
    "MyButton3.grid(row=4,column=5)\n",
    "myLabel4.grid(row=6,column=2)\n",
    "MyButton4.grid(row=6,column=5)\n",
    "myLabel5.grid(row=8,column=2)\n",
    "MyButton5.grid(row=8,column=5)\n",
    "\n",
    "\n",
    "\n",
    "\n",
    "root.mainloop()"
   ]
  },
  {
   "cell_type": "code",
   "execution_count": 48,
   "metadata": {},
   "outputs": [
    {
     "name": "stdout",
     "output_type": "stream",
     "text": [
      "{'neg': 0.0, 'neu': 0.631, 'pos': 0.369, 'compound': 0.8481}\n",
      "NEUTRAL\n"
     ]
    }
   ],
   "source": [
    "with open('E:/sample.txt.txt', 'r') as f:\n",
    "    data = f.read()\n",
    "#print(data)\n",
    "from vaderSentiment.vaderSentiment import SentimentIntensityAnalyzer \n",
    "#from vaderSentiment import SentimentIntensityAnalyzer\n",
    "sid_obj = SentimentIntensityAnalyzer()\n",
    "s_d= sid_obj.polarity_scores(data) \n",
    "print(s_d)\n",
    "pos='pos'\n",
    "neg='neg'\n",
    "neu='neu'\n",
    "if (s_d[pos]>s_d[neg] and s_d[pos]>s_d[neu]):\n",
    "    print(\"POSITIVE\")\n",
    "elif(s_d[neg]>s_d[pos] and s_d[neg]>s_d[neu]):\n",
    "    print(\"NEGATIVE\")\n",
    "else:\n",
    "    print(\"NEUTRAL\")"
   ]
  },
  {
   "cell_type": "code",
   "execution_count": 60,
   "metadata": {},
   "outputs": [
    {
     "name": "stderr",
     "output_type": "stream",
     "text": [
      "WARNING:pdfminer.layout:Too many boxes (116) to group, skipping.\n"
     ]
    },
    {
     "name": "stdout",
     "output_type": "stream",
     "text": [
      "['Career Objective\\n\\nTo work in an environment that challenges me to improve and constantly thrive for perfection in all the task alloted to me.\\n\\nEducational Qualifications\\n\\nExamination\\n\\nBoard/University\\n\\nSchool/College\\n\\nYear of Passing\\n\\nPercentage\\n\\nB.Tech(CSE)\\n\\nDr. A.P.J. Abdul Kalam, Technical University, Lucknow\\n\\nPranveer Singh Institute of Technology, Kanpur\\n\\n2\\n\\n0\\n\\n2\\n\\n1\\n\\n8\\n\\n4\\n\\n.5\\n\\nIntermediate\\n\\nISC\\n\\nSt.Aloysius School,kanpur\\n\\n2\\n\\n0\\n\\n1\\n\\n7\\n\\n8\\n\\n7\\n\\nHigh School\\n\\nICSE\\n\\nSt.Aloysius School,kanpur\\n\\n2\\n\\n0\\n\\n1\\n\\n5\\n\\n9\\n\\n1\\n\\nTechnical Strengths\\n\\nSubjects of Interest\\n\\nProjects\\n\\nAccomplished\\n\\nAccomplished\\n\\nOngoing\\n\\nTitle\\n\\nOnline Form Submission\\xa0\\n\\nStress Buster-Game (6\\n\\n-Zombie)\\n\\nSentiment Analysis and Implementation of \\nCredit Algorithm.\\n\\nTeam Size\\n\\n1\\n\\n1\\n\\n4\\n\\nDuration\\n\\n1\\n\\n week\\n\\n1\\n\\n week\\xa0\\n\\nOngoing\\n\\nRole\\nPlayed\\n\\nFront End Developer\\n\\nFront and Back End Developer\\n\\nTeam Leader,Back End Developer\\n\\nTechnology\\nUsed\\n\\nHTML,CSS,JavaScript\\n\\nPython\\n\\nPython\\xa0\\n\\nDescription\\n\\nA web page which takes user \\ndata in a form as an input and \\nstores it in a database for \\n\\xa0latter use.\\n\\nThis game is the stress buster for people who don\\'t \\nwant to get too involved in a game rather need a \\nstress buster.This game is the modified version of 9\\n0\\ngame .\\n\\n\\'s \\n\\nThis project overcomes the draw back of \\nsentiment analysis and finally provide more \\naccuracy with the new algorithm (Credit \\nAlgorithm).\\n\\nCore Strengths\\n\\nWorkshops/Certifications\\n\\nAchievements\\n\\nPersonal Profile\\n\\nDeclaration\\n\\nKushagra Manoj Gupta\\n\\n+9\\n\\n1\\n\\n 7\\n\\n3\\n\\n7\\n\\n6\\n\\n5\\n\\n6\\n\\n5\\n\\n6\\n\\n8\\n\\n0\\n\\nkushagramanojgupta@gmail.com\\n\\nProgramming Languages\\nDatabase\\nSoftware\\nOperating System\\nWeb Technology\\n\\nPython-3\\n.6\\nOracle 1\\n1 g\\nJupiter,Spider,Eclipse\\nWindowXP,Windows7\\nHTML,CSS\\n\\n,C,Basic Java\\n\\n,Windows1\\n\\n0\\n\\nOperating System\\n\\nDesign And Analysis Of Algorithms\\n\\nGoal Oriented\\n\\nTeam Player\\n\\nCertification on \"Introduction To Go\" course from UCI (2\\n0\\n2\\n0\\n).\\nHackerRank Certification in \"Problem Solving\" and \"Python Programming\"(2\\n0\\n2\\n0\\n).\\xa0\\nCertification for workshop on \"Introduction To Artificial Intelligence\" from IBM(2\\n0\\n1\\nCertification for workshop on \"Introduction To Artificial Intelligence\" at IIT BHU (2\\nCertification for workshop on \"Web Code House\" at \\'Ignitia\\' (2\\n0\\n1\\n9\\n).\\xa0\\n\\n9\\n\\n)..\\n9\\n).\\n\\n0\\n\\n1\\n\\nWinner of \"Qwerty Master\" held at college fest \\'Ignitia\\' 2\\nParticipated in International Computer Fest COFAS 2\\n0\\n1\\n6\\nParticipated in International Computer Fest COFAS 2\\n0\\n1\\n4\\n3\\nrd rank in \\'ROBOTICS\\' at \"Sciber Fiesta\"\\n\\n0\\n\\n1\\n\\n8\\n\\n.\\n\\n.\\n.\\n\\nFather\\'s Name\\nDate of Birth\\nLanguages known\\nAddress\\n\\nMr. Manoj Kumar Gupta\\n2\\n3\\n-June-1\\n9\\n9\\n8\\nEnglish and Hindi\\n6\\n4\\n/1\\n1\\n3\\n,The Mall,Kanpur\\n\\nI hereby declare that all the information mentioned above is true to the best of my knowledge\\n\\nDate: 8\\n/1\\n2\\n/2\\n0\\nPlace: Kanpur\\n\\n2\\n\\n0\\n\\n(Kushagra Manoj Gupta)\\n\\n\\xa0\\n:\\n:\\n:\\n:\\n:\\n:\\n:\\n:\\n:\\n\\x0c']\n",
      "{'neg': 0.026, 'neu': 0.866, 'pos': 0.108, 'compound': 0.9898}\n",
      "NEUTRAL\n"
     ]
    }
   ],
   "source": [
    " \n",
    "q='E:/FINAL-RESUME.pdf'\n",
    "import slate3k as slate\n",
    "\n",
    "with open(q,'rb') as f:\n",
    "    extracted_text = slate.PDF(f)\n",
    "print(extracted_text)\n",
    "from vaderSentiment.vaderSentiment import SentimentIntensityAnalyzer \n",
    "#from vaderSentiment import SentimentIntensityAnalyzer\n",
    "sid_obj = SentimentIntensityAnalyzer()\n",
    "s_d= sid_obj.polarity_scores(extracted_text) \n",
    "print(s_d)\n",
    "pos='pos'\n",
    "neg='neg'\n",
    "neu='neu'\n",
    "if (s_d[pos]>s_d[neg] and s_d[pos]>s_d[neu]):\n",
    "    print(\"POSITIVE\")\n",
    "elif(s_d[neg]>s_d[pos] and s_d[neg]>s_d[neu]):\n",
    "    print(\"NEGATIVE\")\n",
    "else:\n",
    "    print(\"NEUTRAL\")"
   ]
  },
  {
   "cell_type": "code",
   "execution_count": null,
   "metadata": {},
   "outputs": [],
   "source": []
  }
 ],
 "metadata": {
  "kernelspec": {
   "display_name": "Python 3",
   "language": "python",
   "name": "python3"
  },
  "language_info": {
   "codemirror_mode": {
    "name": "ipython",
    "version": 3
   },
   "file_extension": ".py",
   "mimetype": "text/x-python",
   "name": "python",
   "nbconvert_exporter": "python",
   "pygments_lexer": "ipython3",
   "version": "3.7.1"
  }
 },
 "nbformat": 4,
 "nbformat_minor": 2
}
